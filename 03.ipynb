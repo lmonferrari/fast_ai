{
 "cells": [
  {
   "cell_type": "code",
   "execution_count": 18,
   "metadata": {},
   "outputs": [],
   "source": [
    "import torch"
   ]
  },
  {
   "cell_type": "code",
   "execution_count": 19,
   "metadata": {},
   "outputs": [],
   "source": [
    "dispositivo = torch.device(\"cuda\" if torch.cuda.is_available() else \"cpu\")"
   ]
  },
  {
   "cell_type": "code",
   "execution_count": 20,
   "metadata": {},
   "outputs": [
    {
     "data": {
      "text/plain": [
       "tensor([1., 1., 1.], device='cuda:0')"
      ]
     },
     "execution_count": 20,
     "metadata": {},
     "output_type": "execute_result"
    }
   ],
   "source": [
    "# tensor de 3 uns\n",
    "a = torch.ones(3).to(dispositivo)\n",
    "a"
   ]
  },
  {
   "cell_type": "code",
   "execution_count": 21,
   "metadata": {},
   "outputs": [
    {
     "data": {
      "text/plain": [
       "tensor([4., 1., 5., 3., 2., 1.], device='cuda:0')"
      ]
     },
     "execution_count": 21,
     "metadata": {},
     "output_type": "execute_result"
    }
   ],
   "source": [
    "# criando tensor com zeros e atribuindo valores\n",
    "# tensores são alocaods na memória sequencialmente\n",
    "# diferentemente de listas e tuplas em python que são alocadas de forma esparsa\n",
    "# tensores são alocados de forma densa\n",
    "# tensores são alocados de forma sequencial\n",
    "pontos = torch.zeros(6).to(dispositivo)\n",
    "pontos[0] = 4.0\n",
    "pontos[1] = 1.0\n",
    "pontos[2] = 5.0\n",
    "pontos[3] = 3.0\n",
    "pontos[4] = 2.0\n",
    "pontos[5] = 1.0\n",
    "pontos"
   ]
  },
  {
   "cell_type": "code",
   "execution_count": 22,
   "metadata": {},
   "outputs": [
    {
     "data": {
      "text/plain": [
       "tensor([4., 1., 5., 3., 2., 1.], device='cuda:0')"
      ]
     },
     "execution_count": 22,
     "metadata": {},
     "output_type": "execute_result"
    }
   ],
   "source": [
    "# criando tensor passando uma lista\n",
    "pontos1 = torch.tensor([4.0, 1.0, 5.0, 3.0, 2.0, 1.0]).to(dispositivo)\n",
    "pontos1"
   ]
  },
  {
   "cell_type": "code",
   "execution_count": 23,
   "metadata": {},
   "outputs": [
    {
     "name": "stdout",
     "output_type": "stream",
     "text": [
      "tensor([[4., 1.],\n",
      "        [5., 3.],\n",
      "        [2., 1.]], device='cuda:0') torch.Size([3, 2])\n"
     ]
    }
   ],
   "source": [
    "# criando um tensor bidimensional\n",
    "bidimensional = torch.tensor([[4.0, 1.0], [5.0, 3.0], [2.0, 1.0]]).to(dispositivo)\n",
    "print(bidimensional, bidimensional.shape)"
   ]
  },
  {
   "cell_type": "code",
   "execution_count": 24,
   "metadata": {},
   "outputs": [
    {
     "name": "stdout",
     "output_type": "stream",
     "text": [
      "tensor(1., device='cuda:0')\n"
     ]
    }
   ],
   "source": [
    "# acessando elementos do tensor\n",
    "# acessando o elemento da primeira linha e segunda coluna\n",
    "print(bidimensional[0, 1])"
   ]
  },
  {
   "cell_type": "code",
   "execution_count": 25,
   "metadata": {},
   "outputs": [
    {
     "name": "stdout",
     "output_type": "stream",
     "text": [
      "torch.Size([3, 5, 5]) torch.Size([3]) torch.Size([2, 3, 5, 5])\n"
     ]
    }
   ],
   "source": [
    "# simulando o shape de uma imagem\n",
    "# 3 canais, 256 linhas e 256 colunas\n",
    "\n",
    "imagem = torch.randn(3, 5, 5).to(dispositivo) # [canal, linha, coluna]\n",
    "pesos = torch.tensor([0.2126, 0.7152, 0.0722]).to(dispositivo)\n",
    "\n",
    "# adicionando uma dimensão ao tensor\n",
    "batch_t = torch.rand(2, 3, 5, 5).to(dispositivo) # [batch, canal, linha, coluna]\n",
    "\n",
    "print(imagem.shape, pesos.shape, batch_t.shape)"
   ]
  },
  {
   "cell_type": "code",
   "execution_count": 26,
   "metadata": {},
   "outputs": [
    {
     "name": "stdout",
     "output_type": "stream",
     "text": [
      "torch.Size([5, 5])\n"
     ]
    }
   ],
   "source": [
    "# A vezes, os canais RGB estão na dimensão 0, e às vezes estão na dimensão 1.\n",
    "# Mas podemos generalizar contando a partir do final: \n",
    "# eles estão sempre na dimensão –3, o terceiro a partir do final.\n",
    "\n",
    "imagem_cinza = imagem.mean(-3) # média dos canais\n",
    "print(imagem_cinza.shape)"
   ]
  },
  {
   "cell_type": "code",
   "execution_count": 27,
   "metadata": {},
   "outputs": [
    {
     "name": "stdout",
     "output_type": "stream",
     "text": [
      "torch.Size([2, 5, 5])\n"
     ]
    }
   ],
   "source": [
    "batch_t_cinza = batch_t.mean(-3)\n",
    "print(batch_t_cinza.shape)"
   ]
  },
  {
   "cell_type": "code",
   "execution_count": 28,
   "metadata": {},
   "outputs": [
    {
     "name": "stdout",
     "output_type": "stream",
     "text": [
      "torch.Size([3, 5, 5]) torch.Size([3, 1, 1])\n"
     ]
    }
   ],
   "source": [
    "pesos_nao_apertados = pesos.unsqueeze(-1).unsqueeze_(-1)\n",
    "imagem_pesos = (imagem * pesos_nao_apertados)\n",
    "\n",
    "print(imagem_pesos.shape, pesos_nao_apertados.shape)"
   ]
  },
  {
   "cell_type": "code",
   "execution_count": 29,
   "metadata": {},
   "outputs": [
    {
     "name": "stdout",
     "output_type": "stream",
     "text": [
      "torch.Size([2, 3, 5, 5])\n"
     ]
    }
   ],
   "source": [
    "batch_t_pesos = (batch_t * pesos_nao_apertados)\n",
    "print(batch_t_pesos.shape)"
   ]
  },
  {
   "cell_type": "code",
   "execution_count": 30,
   "metadata": {},
   "outputs": [
    {
     "name": "stdout",
     "output_type": "stream",
     "text": [
      "torch.Size([5, 5])\n"
     ]
    }
   ],
   "source": [
    "imagem_cinza_com_pesos = imagem_pesos.sum(-3)\n",
    "print(imagem_cinza_com_pesos.shape)"
   ]
  },
  {
   "cell_type": "code",
   "execution_count": 31,
   "metadata": {},
   "outputs": [
    {
     "name": "stdout",
     "output_type": "stream",
     "text": [
      "torch.Size([2, 5, 5])\n"
     ]
    }
   ],
   "source": [
    "batch_t_cinza_com_pesos = batch_t_pesos.sum(-3)\n",
    "print(batch_t_cinza_com_pesos.shape)"
   ]
  },
  {
   "cell_type": "code",
   "execution_count": 32,
   "metadata": {},
   "outputs": [
    {
     "data": {
      "text/plain": [
       "tensor([0, 1, 2, 3, 4, 5, 6, 7, 8])"
      ]
     },
     "execution_count": 32,
     "metadata": {},
     "output_type": "execute_result"
    }
   ],
   "source": [
    "a = torch.tensor(range(9))\n",
    "a"
   ]
  },
  {
   "cell_type": "code",
   "execution_count": 33,
   "metadata": {},
   "outputs": [
    {
     "data": {
      "text/plain": [
       "tensor([[0, 1, 2],\n",
       "        [3, 4, 5],\n",
       "        [6, 7, 8]])"
      ]
     },
     "execution_count": 33,
     "metadata": {},
     "output_type": "execute_result"
    }
   ],
   "source": [
    "b = a.view(3, 3)\n",
    "b"
   ]
  },
  {
   "cell_type": "code",
   "execution_count": 34,
   "metadata": {},
   "outputs": [
    {
     "data": {
      "text/plain": [
       "tensor([[4, 5],\n",
       "        [7, 8]])"
      ]
     },
     "execution_count": 34,
     "metadata": {},
     "output_type": "execute_result"
    }
   ],
   "source": [
    "c = b[1:, 1:]\n",
    "c"
   ]
  }
 ],
 "metadata": {
  "kernelspec": {
   "display_name": "pytorchEnv",
   "language": "python",
   "name": "python3"
  },
  "language_info": {
   "codemirror_mode": {
    "name": "ipython",
    "version": 3
   },
   "file_extension": ".py",
   "mimetype": "text/x-python",
   "name": "python",
   "nbconvert_exporter": "python",
   "pygments_lexer": "ipython3",
   "version": "3.10.13"
  }
 },
 "nbformat": 4,
 "nbformat_minor": 2
}
